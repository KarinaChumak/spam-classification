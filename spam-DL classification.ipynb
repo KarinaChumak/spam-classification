{
 "cells": [
  {
   "cell_type": "markdown",
   "metadata": {
    "colab_type": "text",
    "id": "oJ6jS0m-xPUg"
   },
   "source": [
    "This is test task for MMD Smart done by Karina Chumak.<br>\n",
    "Task: create spam/not-spam classificator using DL and clustering, provide exploratory data analysis."
   ]
  },
  {
   "cell_type": "code",
   "execution_count": 1,
   "metadata": {
    "colab": {},
    "colab_type": "code",
    "id": "Js4xtZS9xPUi"
   },
   "outputs": [],
   "source": [
    "import pandas as pd\n",
    "import matplotlib.pyplot as plt\n",
    "import seaborn as sns\n",
    "import time\n",
    "import numpy as np\n",
    "import warnings\n",
    "warnings.filterwarnings('ignore')\n",
    "figsize = (15,5)"
   ]
  },
  {
   "cell_type": "code",
   "execution_count": 2,
   "metadata": {},
   "outputs": [],
   "source": [
    "X = pd.read_csv('data/processed_CDR_TEXT_labels.csv')"
   ]
  },
  {
   "cell_type": "markdown",
   "metadata": {},
   "source": [
    "# 2. Deep Learning"
   ]
  },
  {
   "cell_type": "markdown",
   "metadata": {},
   "source": [
    "For this task CNN with two channels of word embeddings was implemented, one - static, one - non-static.\n",
    "This model architecture was described in Yoon Kim [paper](https://www.aclweb.org/anthology/D14-1181). I selected this model, because Weicheng Zhang, who compared LSTM and CNN in his [dissertation](http://weichengzhang.co/src/paper/Capstone_final_report.pdf), stated that CNN outperforms LSTM, even without word embeddings. Moreover, this architecture is quite simple,and performs remarkably well even with little hyperparameter tuning"
   ]
  },
  {
   "cell_type": "code",
   "execution_count": 3,
   "metadata": {
    "colab": {
     "base_uri": "https://localhost:8080/",
     "height": 35
    },
    "colab_type": "code",
    "id": "9AeJ2hCQxPWv",
    "outputId": "a257a055-7afd-419c-b872-84f2da34580a"
   },
   "outputs": [
    {
     "name": "stderr",
     "output_type": "stream",
     "text": [
      "Using TensorFlow backend.\n"
     ]
    }
   ],
   "source": [
    "from keras.models import Model,Sequential\n",
    "from keras.layers import MaxPooling2D,Flatten,Convolution2D,Reshape,Concatenate,concatenate, Activation, Dense, Dropout, Input, Embedding\n",
    "from keras.optimizers import RMSprop\n",
    "from keras.preprocessing.text import Tokenizer\n",
    "from keras.preprocessing import sequence\n",
    "from keras.utils import to_categorical\n",
    "from keras.callbacks import EarlyStopping,ModelCheckpoint,TensorBoard\n",
    "from keras.initializers import Constant"
   ]
  },
  {
   "cell_type": "markdown",
   "metadata": {},
   "source": [
    "Splitting data for train and test set"
   ]
  },
  {
   "cell_type": "code",
   "execution_count": 4,
   "metadata": {
    "colab": {},
    "colab_type": "code",
    "id": "ePWBsBhuxPWy"
   },
   "outputs": [],
   "source": [
    "from sklearn.model_selection import train_test_split\n",
    "X_train,X_test,Y_train,Y_test = train_test_split(X['CDR_TEXT'],X['labels'],test_size=0.2)"
   ]
  },
  {
   "cell_type": "markdown",
   "metadata": {},
   "source": [
    "Using GloVe as word embeddings. The dimension of embedding was chosen as 50. Maximum number of words in embeddings is 200000, maximum length of sequence created from text is 100"
   ]
  },
  {
   "cell_type": "code",
   "execution_count": 5,
   "metadata": {
    "colab": {},
    "colab_type": "code",
    "id": "fVAhuh48-8QC"
   },
   "outputs": [],
   "source": [
    "GLOVE_FILE = 'data/glove.6B/glove.6B.50d.txt'\n",
    "MAX_SEQUENCE_LENGTH = 100 #the longest sequence is actually 89 words\n",
    "MAX_NUM_WORDS = 200000\n",
    "EMBEDDING_DIM = 50\n",
    "VALIDATION_SPLIT = 0.2"
   ]
  },
  {
   "cell_type": "code",
   "execution_count": 6,
   "metadata": {},
   "outputs": [],
   "source": [
    "# tokenization, sequence forming, aequence padding\n",
    "tok = Tokenizer(num_words=MAX_NUM_WORDS)\n",
    "tok.fit_on_texts(X_train)\n",
    "sequences = tok.texts_to_sequences(X_train)\n",
    "sequences_matrix = sequence.pad_sequences(sequences,maxlen=MAX_SEQUENCE_LENGTH)"
   ]
  },
  {
   "cell_type": "code",
   "execution_count": 7,
   "metadata": {
    "colab": {},
    "colab_type": "code",
    "id": "1nVM5qNy_2z6"
   },
   "outputs": [],
   "source": [
    "embeddings_index = {}\n",
    "with open(GLOVE_FILE) as f:\n",
    "    for line in f:\n",
    "        values = line.split()\n",
    "        word = values[0]\n",
    "        coefs = np.asarray(values[1:], dtype='float32')\n",
    "        embeddings_index[word] = coefs"
   ]
  },
  {
   "cell_type": "code",
   "execution_count": 8,
   "metadata": {
    "colab": {},
    "colab_type": "code",
    "id": "1Bb1GXNXxPXC"
   },
   "outputs": [],
   "source": [
    "word_index = tok.word_index"
   ]
  },
  {
   "cell_type": "code",
   "execution_count": 9,
   "metadata": {
    "code_folding": [],
    "colab": {},
    "colab_type": "code",
    "id": "WVsitfYIxPXE"
   },
   "outputs": [],
   "source": [
    "# prepare embedding matrix\n",
    "num_words = min(MAX_NUM_WORDS, len(word_index)) + 1\n",
    "embedding_matrix = np.zeros((num_words, EMBEDDING_DIM))\n",
    "for word, i in word_index.items():\n",
    "    if i > MAX_NUM_WORDS:\n",
    "        continue\n",
    "    embedding_vector = embeddings_index.get(word)\n",
    "    if embedding_vector is not None:\n",
    "        # words not found in embedding index will be all-zeros.\n",
    "        embedding_matrix[i] = embedding_vector"
   ]
  },
  {
   "cell_type": "code",
   "execution_count": 11,
   "metadata": {},
   "outputs": [],
   "source": [
    "sequence_input1 = Input(shape=(MAX_SEQUENCE_LENGTH,), dtype='int32')\n",
    "# static embedding layer\n",
    "embedded1 = Embedding(num_words,\n",
    "                            EMBEDDING_DIM,\n",
    "                            embeddings_initializer=Constant(embedding_matrix),\n",
    "                            input_length=MAX_SEQUENCE_LENGTH,\n",
    "                            trainable=False)(sequence_input1)\n",
    "# trainable embedding layer\n",
    "embedded2 = Embedding(num_words,\n",
    "                            EMBEDDING_DIM,\n",
    "                            embeddings_initializer=Constant(embedding_matrix),\n",
    "                            input_length=MAX_SEQUENCE_LENGTH,\n",
    "                            trainable=True)(sequence_input1)\n",
    "merged = concatenate([embedded1,embedded2],axis = -1)\n",
    "x = Reshape((2, MAX_SEQUENCE_LENGTH, EMBEDDING_DIM))(merged)\n",
    "x = Convolution2D(64, 5, activation=\"relu\", data_format = \"channels_first\",border_mode='same')(x)\n",
    "x = MaxPooling2D(5)(x)\n",
    "x = Flatten()(x)\n",
    "x = Dense(256, activation=\"relu\")(x)\n",
    "x = Dropout(0.3)(x)\n",
    "preds = Dense(2, activation=\"softmax\")(x)\n",
    "model = Model(inputs=sequence_input1, outputs=preds)"
   ]
  },
  {
   "cell_type": "code",
   "execution_count": 12,
   "metadata": {
    "colab": {},
    "colab_type": "code",
    "id": "sRaNghfqBhNE"
   },
   "outputs": [],
   "source": [
    "model.compile(loss='categorical_crossentropy',\n",
    "                optimizer='rmsprop',\n",
    "                metrics=['acc'])"
   ]
  },
  {
   "cell_type": "code",
   "execution_count": 13,
   "metadata": {},
   "outputs": [
    {
     "name": "stdout",
     "output_type": "stream",
     "text": [
      "__________________________________________________________________________________________________\n",
      "Layer (type)                    Output Shape         Param #     Connected to                     \n",
      "==================================================================================================\n",
      "input_2 (InputLayer)            (None, 100)          0                                            \n",
      "__________________________________________________________________________________________________\n",
      "embedding_3 (Embedding)         (None, 100, 50)      6605650     input_2[0][0]                    \n",
      "__________________________________________________________________________________________________\n",
      "embedding_4 (Embedding)         (None, 100, 50)      6605650     input_2[0][0]                    \n",
      "__________________________________________________________________________________________________\n",
      "concatenate_2 (Concatenate)     (None, 100, 100)     0           embedding_3[0][0]                \n",
      "                                                                 embedding_4[0][0]                \n",
      "__________________________________________________________________________________________________\n",
      "reshape_2 (Reshape)             (None, 2, 100, 50)   0           concatenate_2[0][0]              \n",
      "__________________________________________________________________________________________________\n",
      "conv2d_2 (Conv2D)               (None, 64, 100, 50)  3264        reshape_2[0][0]                  \n",
      "__________________________________________________________________________________________________\n",
      "max_pooling2d_2 (MaxPooling2D)  (None, 12, 20, 50)   0           conv2d_2[0][0]                   \n",
      "__________________________________________________________________________________________________\n",
      "flatten_2 (Flatten)             (None, 12000)        0           max_pooling2d_2[0][0]            \n",
      "__________________________________________________________________________________________________\n",
      "dense_3 (Dense)                 (None, 256)          3072256     flatten_2[0][0]                  \n",
      "__________________________________________________________________________________________________\n",
      "dropout_2 (Dropout)             (None, 256)          0           dense_3[0][0]                    \n",
      "__________________________________________________________________________________________________\n",
      "dense_4 (Dense)                 (None, 2)            514         dropout_2[0][0]                  \n",
      "==================================================================================================\n",
      "Total params: 16,287,334\n",
      "Trainable params: 9,681,684\n",
      "Non-trainable params: 6,605,650\n",
      "__________________________________________________________________________________________________\n"
     ]
    }
   ],
   "source": [
    "model.summary()"
   ]
  },
  {
   "cell_type": "code",
   "execution_count": 14,
   "metadata": {
    "colab": {},
    "colab_type": "code",
    "id": "thHvlirUGTWd"
   },
   "outputs": [],
   "source": [
    "# save the weights on each epoch\n",
    "filepath=\"weights-improvement-{epoch:02d}-{loss:.4f}-bigger.hdf5\"\n",
    "checkpoint = ModelCheckpoint(filepath, monitor='loss', verbose=1, save_best_only=True, mode='min')\n",
    "# stop early if accuracy doesn't improve\n",
    "early_stop = EarlyStopping(monitor='val_loss',min_delta=0.0001)\n",
    "# define tensorboard for model diagnosis\n",
    "tensorboard = TensorBoard(log_dir='tensorboard/', histogram_freq=0,  \n",
    "          write_graph=True)\n",
    "callbacks_list = [checkpoint,early_stop,tensorboard]"
   ]
  },
  {
   "cell_type": "code",
   "execution_count": 15,
   "metadata": {},
   "outputs": [],
   "source": [
    "# creating one hot vector for labels\n",
    "from keras.utils import to_categorical\n",
    "y_binary = to_categorical(np.asarray(Y_train))"
   ]
  },
  {
   "cell_type": "code",
   "execution_count": 17,
   "metadata": {
    "colab": {},
    "colab_type": "code",
    "id": "06rWU3nLBmtx"
   },
   "outputs": [
    {
     "name": "stdout",
     "output_type": "stream",
     "text": [
      "Train on 630064 samples, validate on 157516 samples\n",
      "Epoch 1/5\n",
      "630064/630064 [==============================] - 14947s 24ms/step - loss: 0.0057 - acc: 0.9986 - val_loss: 0.0036 - val_acc: 0.9994\n",
      "\n",
      "Epoch 00001: loss improved from inf to 0.00567, saving model to weights-improvement-01-0.0057-bigger.hdf5\n",
      "Epoch 2/5\n",
      "630064/630064 [==============================] - 14965s 24ms/step - loss: 0.0035 - acc: 0.9993 - val_loss: 0.0041 - val_acc: 0.9994\n",
      "\n",
      "Epoch 00002: loss improved from 0.00567 to 0.00346, saving model to weights-improvement-02-0.0035-bigger.hdf5\n"
     ]
    },
    {
     "data": {
      "text/plain": [
       "<keras.callbacks.History at 0x7fd4582a7fd0>"
      ]
     },
     "execution_count": 17,
     "metadata": {},
     "output_type": "execute_result"
    }
   ],
   "source": [
    "model.fit(sequences_matrix,y_binary,batch_size=128,epochs=5,\n",
    "          validation_split=0.2,callbacks=callbacks_list)"
   ]
  },
  {
   "cell_type": "markdown",
   "metadata": {},
   "source": [
    "Even after first epoch model had validation accuracy 99.94%, which did not impove after 2d epoch,so the model stopped early. Let's check how it works on test set\n"
   ]
  },
  {
   "cell_type": "code",
   "execution_count": 18,
   "metadata": {
    "colab": {},
    "colab_type": "code",
    "id": "NMlzLUTkxPXG"
   },
   "outputs": [],
   "source": [
    "test_sequences = tok.texts_to_sequences(X_test)\n",
    "test_sequences_matrix = sequence.pad_sequences(test_sequences,maxlen=MAX_SEQUENCE_LENGTH)"
   ]
  },
  {
   "cell_type": "code",
   "execution_count": 19,
   "metadata": {
    "colab": {},
    "colab_type": "code",
    "id": "_YBdsLzvxPXI"
   },
   "outputs": [],
   "source": [
    "y_pred = model.predict(test_sequences_matrix)"
   ]
  },
  {
   "cell_type": "markdown",
   "metadata": {},
   "source": [
    "The output of the model is one-hot vector. The second column is pobability of being a spam. We'll use threshold of 0.5"
   ]
  },
  {
   "cell_type": "code",
   "execution_count": 20,
   "metadata": {},
   "outputs": [],
   "source": [
    "y_pred = (pd.Series(y_pred[:,1]) > 0.5) * 1"
   ]
  },
  {
   "cell_type": "code",
   "execution_count": 21,
   "metadata": {},
   "outputs": [],
   "source": [
    "from sklearn.metrics import accuracy_score, f1_score, precision_score, recall_score,confusion_matrix"
   ]
  },
  {
   "cell_type": "code",
   "execution_count": 29,
   "metadata": {
    "colab": {},
    "colab_type": "code",
    "id": "PvwpSFMxxPXO",
    "outputId": "55ba1628-af05-4db4-a7a1-c93c6202e276"
   },
   "outputs": [
    {
     "name": "stdout",
     "output_type": "stream",
     "text": [
      "CNN + 2 word embeddings\n",
      "Precision:0.9979421483491401\n",
      "Recall:0.997741017494995\n",
      "Accuracy:0.9992889647326507\n"
     ]
    }
   ],
   "source": [
    "prec = precision_score(Y_test,y_pred, average=\"macro\")\n",
    "rec = recall_score(Y_test,y_pred, average=\"macro\")\n",
    "acc = accuracy_score(Y_test,y_pred)\n",
    "print('CNN + 2 word embeddings')\n",
    "print('Precision:{}'.format(prec))\n",
    "print('Recall:{}'.format(rec))\n",
    "print('Accuracy:{}'.format(acc))"
   ]
  },
  {
   "cell_type": "markdown",
   "metadata": {},
   "source": [
    "So the results are pretty good,taking to the account the simplicity of the model and absence of hyperparameter tuning. Let's build a confusion matrix to see, where our model makes mistakes"
   ]
  },
  {
   "cell_type": "code",
   "execution_count": 25,
   "metadata": {
    "colab": {},
    "colab_type": "code",
    "id": "pc2jpnXOxPXQ"
   },
   "outputs": [],
   "source": [
    "conf_matrix = confusion_matrix(Y_test, y_pred)\n",
    "conf_matrix_normalized = conf_matrix.astype('float') / conf_matrix.sum(axis=1)[:, np.newaxis]"
   ]
  },
  {
   "cell_type": "code",
   "execution_count": 26,
   "metadata": {
    "colab": {},
    "colab_type": "code",
    "id": "R9dgiccQxPXS",
    "outputId": "20fcab75-4248-412d-fa78-4046d58a1ed2"
   },
   "outputs": [
    {
     "data": {
      "text/plain": [
       "Text(0.5, 15.0, 'Predicted label')"
      ]
     },
     "execution_count": 26,
     "metadata": {},
     "output_type": "execute_result"
    },
    {
     "data": {
      "image/png": "[encoded data removed]",
      "text/plain": [
       "<Figure size 432x288 with 2 Axes>"
      ]
     },
     "metadata": {
      "needs_background": "light"
     },
     "output_type": "display_data"
    }
   ],
   "source": [
    "sns.heatmap(conf_matrix_normalized)\n",
    "plt.ylabel('True label')\n",
    "plt.xlabel('Predicted label')"
   ]
  },
  {
   "cell_type": "code",
   "execution_count": 27,
   "metadata": {
    "colab": {},
    "colab_type": "code",
    "id": "sAg7vwJGxPXV",
    "outputId": "1764b80a-a188-4af5-8a38-5342daca7097"
   },
   "outputs": [
    {
     "name": "stdout",
     "output_type": "stream",
     "text": [
      "[[178996     66]\n",
      " [    74  17760]]\n"
     ]
    }
   ],
   "source": [
    "print(conf_matrix)"
   ]
  },
  {
   "cell_type": "markdown",
   "metadata": {},
   "source": [
    "<b>0 - normal, 1 - spam</b>\n",
    "<br>74 out of 17834 spam letters were marked as normal \n",
    "<br>66 out of 179062 normal letters were marked as spam\n",
    "<br> This model is making 1 type mistakes less, than 2 type, which is good, because marking normal letter as spam is more undesirable than the other way"
   ]
  },
  {
   "cell_type": "code",
   "execution_count": 28,
   "metadata": {},
   "outputs": [],
   "source": [
    "model.save('CNN_2-epoch.h5')"
   ]
  },
  {
   "cell_type": "code",
   "execution_count": null,
   "metadata": {},
   "outputs": [],
   "source": []
  }
 ],
 "metadata": {
  "colab": {
   "name": "spam classification.ipynb",
   "provenance": [],
   "toc_visible": true,
   "version": "0.3.2"
  },
  "kernelspec": {
   "display_name": "Python 3",
   "language": "python",
   "name": "python3"
  },
  "language_info": {
   "codemirror_mode": {
    "name": "ipython",
    "version": 3
   },
   "file_extension": ".py",
   "mimetype": "text/x-python",
   "name": "python",
   "nbconvert_exporter": "python",
   "pygments_lexer": "ipython3",
   "version": "3.6.6"
  }
 },
 "nbformat": 4,
 "nbformat_minor": 1
}
