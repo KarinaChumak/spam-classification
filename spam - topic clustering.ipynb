{
 "cells": [
  {
   "cell_type": "markdown",
   "metadata": {},
   "source": [
    "This is test task for MMD Smart done by Karina Chumak.<br>\n",
    "Task: create spam/not-spam classificator using DL and clustering, provide exploratory data analysis."
   ]
  },
  {
   "cell_type": "code",
   "execution_count": 37,
   "metadata": {},
   "outputs": [],
   "source": [
    "import nltk\n",
    "import pandas as pd\n",
    "import matplotlib.pyplot as plt\n",
    "import seaborn as sns\n",
    "import time\n",
    "import numpy as np\n",
    "import warnings\n",
    "warnings.filterwarnings('ignore')"
   ]
  },
  {
   "cell_type": "code",
   "execution_count": 64,
   "metadata": {},
   "outputs": [],
   "source": [
    "data = pd.read_csv('data/processed_CDR_TEXT_labels.csv')"
   ]
  },
  {
   "cell_type": "code",
   "execution_count": 65,
   "metadata": {},
   "outputs": [],
   "source": [
    "X = data['CDR_TEXT']"
   ]
  },
  {
   "cell_type": "markdown",
   "metadata": {},
   "source": [
    "Splitting all texts into words"
   ]
  },
  {
   "cell_type": "code",
   "execution_count": 13,
   "metadata": {},
   "outputs": [],
   "source": [
    "texts = X.apply(lambda x : x.split(' ')).tolist()"
   ]
  },
  {
   "cell_type": "markdown",
   "metadata": {},
   "source": [
    "For this task I decided to train K-means on top of Doc2Vec model, representing each CDR_TEXT as vector and clustering vectors. This approach is described [here](https://towardsdatascience.com/automatic-topic-clustering-using-doc2vec-e1cea88449c])"
   ]
  },
  {
   "cell_type": "code",
   "execution_count": 16,
   "metadata": {},
   "outputs": [],
   "source": [
    "from gensim.models.doc2vec import Doc2Vec, TaggedDocument"
   ]
  },
  {
   "cell_type": "code",
   "execution_count": 17,
   "metadata": {},
   "outputs": [],
   "source": [
    "documents = [TaggedDocument(doc, [i]) for i, doc in enumerate(texts)]"
   ]
  },
  {
   "cell_type": "code",
   "execution_count": 19,
   "metadata": {},
   "outputs": [
    {
     "name": "stdout",
     "output_type": "stream",
     "text": [
      "163.13702750205994\n"
     ]
    }
   ],
   "source": [
    "s = time.time()\n",
    "model = Doc2Vec(documents, size=25, window=2, min_count=1, workers=4)\n",
    "print(time.time() - s)"
   ]
  },
  {
   "cell_type": "code",
   "execution_count": 23,
   "metadata": {},
   "outputs": [],
   "source": [
    "model.save('doc2vec_model')"
   ]
  },
  {
   "cell_type": "code",
   "execution_count": null,
   "metadata": {},
   "outputs": [],
   "source": [
    "# converting each text to a vector\n",
    "vectors = []\n",
    "for i, t in enumerate(X):\n",
    "    vectors.append(model.infer_vector(t))"
   ]
  },
  {
   "cell_type": "code",
   "execution_count": 33,
   "metadata": {},
   "outputs": [],
   "source": [
    "from nltk.cluster.kmeans import KMeansClusterer"
   ]
  },
  {
   "cell_type": "markdown",
   "metadata": {},
   "source": [
    "The number of clusters should be chosen by elbow method, but because running kmeans took about 3 hours for a single value of NUM_CLUSTERS = 6, I didn't implement it and leaved it the way it is. However, this has to be done in future."
   ]
  },
  {
   "cell_type": "code",
   "execution_count": 34,
   "metadata": {},
   "outputs": [],
   "source": [
    "NUM_CLUSTERS = 6"
   ]
  },
  {
   "cell_type": "code",
   "execution_count": 38,
   "metadata": {},
   "outputs": [
    {
     "name": "stdout",
     "output_type": "stream",
     "text": [
      "9924.210003614426\n"
     ]
    }
   ],
   "source": [
    "s = time.time()\n",
    "kclusterer = KMeansClusterer(NUM_CLUSTERS, distance=nltk.cluster.util.cosine_distance, repeats=25)\n",
    "assigned_clusters = kclusterer.cluster(vectors, assign_clusters=True)\n",
    "print(time.time() - s)"
   ]
  },
  {
   "cell_type": "code",
   "execution_count": 43,
   "metadata": {},
   "outputs": [],
   "source": [
    "# saving model\n",
    "import pickle\n",
    "save_classifier = open(\"kmeans.pickle\",\"wb\")\n",
    "pickle.dump(kclusterer, save_classifier)\n",
    "save_classifier.close()"
   ]
  },
  {
   "cell_type": "markdown",
   "metadata": {},
   "source": [
    "For topic descrption I'm counting 5 most common words in each cluster"
   ]
  },
  {
   "cell_type": "code",
   "execution_count": 85,
   "metadata": {},
   "outputs": [],
   "source": [
    "from collections import Counter\n",
    "\n",
    "def get_texts_by_cluster_number(cluster):\n",
    "    text_list = []\n",
    "    for x in range(0, len(assigned_clusters)):\n",
    "        if (assigned_clusters[x] == cluster):\n",
    "            text_list.append(texts[x])\n",
    "    return text_list\n",
    "\n",
    "def get_topics(text_list):\n",
    "#     flatten list of lists\n",
    "    flat_list = [item for sublist in text_list for item in sublist]\n",
    "    count = Counter(flat_list)\n",
    "    return count.most_common()[:5]\n",
    "\n",
    "\n",
    "def get_cluster_topic(id):\n",
    "    return get_topics(get_texts_by_cluster_number(id))\n"
   ]
  },
  {
   "cell_type": "code",
   "execution_count": 88,
   "metadata": {},
   "outputs": [
    {
     "name": "stdout",
     "output_type": "stream",
     "text": [
      "\n",
      "Most common words in 0 cluster:\n",
      "[('httpaddr', 122568), ('org', 110791), ('g', 78143), ('va', 77493), ('klicka', 77442)]\n",
      "\n",
      "Most common words in 1 cluster:\n",
      "[('numbr', 368314), ('httpaddr', 177069), ('org', 170298), ('code', 163760), ('postal', 161385)]\n",
      "\n",
      "Most common words in 2 cluster:\n",
      "[('numbr', 475513), ('draw', 309272), ('httpaddr', 239360), ('org', 218565), ('place', 204424)]\n",
      "\n",
      "Most common words in 3 cluster:\n",
      "[('httpaddr', 117982), ('thank', 96328), ('hi', 93005), ('look', 90003), ('sign', 89563)]\n",
      "\n",
      "Most common words in 4 cluster:\n",
      "[('httpaddr', 140071), ('numbr', 101533), ('org', 87879), ('packag', 57095), ('day', 55910)]\n",
      "\n",
      "Most common words in 5 cluster:\n",
      "[('numbr', 138116), ('httpaddr', 101104), ('org', 85880), ('caro', 82543), ('attesa', 82531)]\n"
     ]
    }
   ],
   "source": [
    "for i in range(NUM_CLUSTERS):\n",
    "    print('\\nMost common words in {} cluster:\\n{}'.format(i,get_cluster_topic(i)))"
   ]
  },
  {
   "cell_type": "markdown",
   "metadata": {},
   "source": [
    "We can see that words like 'httpaddr','numbr','org' are frequent in all the clusters, and the don't represent the content, we'll delete them for topic detection"
   ]
  },
  {
   "cell_type": "code",
   "execution_count": 91,
   "metadata": {},
   "outputs": [],
   "source": [
    "def get_topics_no_trash(text_list):\n",
    "#     flatten list of lists\n",
    "    trash_words = ['httpaddr','numbr','org']\n",
    "    flat_list = [item for sublist in text_list for item in sublist]\n",
    "    clean_list = [item for item in flat_list if item not in trash_words]\n",
    "    count = Counter(clean_list)\n",
    "    return count.most_common()[:5]\n",
    "\n",
    "\n",
    "def get_cluster_topic_no_trash(id):\n",
    "    return get_topics_no_trash(get_texts_by_cluster_number(id))"
   ]
  },
  {
   "cell_type": "code",
   "execution_count": 92,
   "metadata": {},
   "outputs": [
    {
     "name": "stdout",
     "output_type": "stream",
     "text": [
      "\n",
      "Most common words in 0 cluster:\n",
      "[('g', 78143), ('va', 77493), ('klicka', 77442), ('firar', 77442), ('vill', 77442)]\n",
      "\n",
      "Most common words in 1 cluster:\n",
      "[('code', 163760), ('postal', 161385), ('sort', 159993), ('sorti', 159900), ('resultat', 159899)]\n",
      "\n",
      "Most common words in 2 cluster:\n",
      "[('draw', 309272), ('place', 204424), ('novemb', 197478), ('collect', 197334), ('tesco', 197230)]\n",
      "\n",
      "Most common words in 3 cluster:\n",
      "[('thank', 96328), ('hi', 93005), ('look', 90003), ('sign', 89563), ('check', 89243)]\n",
      "\n",
      "Most common words in 4 cluster:\n",
      "[('packag', 57095), ('day', 55910), ('moneysymbnumbr', 51846), ('time', 51715), ('schedul', 50996)]\n",
      "\n",
      "Most common words in 5 cluster:\n",
      "[('caro', 82543), ('attesa', 82531), ('indirizzo', 82531), ('pacco', 82528), ('via', 32324)]\n"
     ]
    }
   ],
   "source": [
    "for i in range(NUM_CLUSTERS):\n",
    "    print('\\nMost common words in {} cluster:\\n{}'.format(i,get_cluster_topic_no_trash(i)))"
   ]
  },
  {
   "cell_type": "code",
   "execution_count": 96,
   "metadata": {},
   "outputs": [],
   "source": [
    "data['cluster'] = assigned_clusters"
   ]
  },
  {
   "cell_type": "markdown",
   "metadata": {},
   "source": [
    "Let's look at clusters in spam/normal letters. Normal letters mostly belong to 2d cluster('code','postal','sort','sorti','resultat'), spam - to 5th('caro','attesa','indirizzo','pacco','via')  and 0th('klicka','firar','vill') clusters."
   ]
  },
  {
   "cell_type": "code",
   "execution_count": 104,
   "metadata": {},
   "outputs": [
    {
     "data": {
      "text/plain": [
       "Text(0, 0.5, 'Percent')"
      ]
     },
     "execution_count": 104,
     "metadata": {},
     "output_type": "execute_result"
    },
    {
     "data": {
      "image/png": "[encoded data removed]",
      "text/plain": [
       "<Figure size 1080x360 with 1 Axes>"
      ]
     },
     "metadata": {
      "needs_background": "light"
     },
     "output_type": "display_data"
    }
   ],
   "source": [
    "df_grouped = data.groupby(['labels','cluster']).size()/data.groupby(['labels']).size()\n",
    "df_grouped.unstack().plot(kind='bar',figsize=(figsize),title='Clusters in non-spam/spam')\n",
    "plt.ylabel(\"Percent\")"
   ]
  },
  {
   "cell_type": "code",
   "execution_count": null,
   "metadata": {},
   "outputs": [],
   "source": []
  }
 ],
 "metadata": {
  "kernelspec": {
   "display_name": "Python 3",
   "language": "python",
   "name": "python3"
  },
  "language_info": {
   "codemirror_mode": {
    "name": "ipython",
    "version": 3
   },
   "file_extension": ".py",
   "mimetype": "text/x-python",
   "name": "python",
   "nbconvert_exporter": "python",
   "pygments_lexer": "ipython3",
   "version": "3.6.6"
  }
 },
 "nbformat": 4,
 "nbformat_minor": 2
}
